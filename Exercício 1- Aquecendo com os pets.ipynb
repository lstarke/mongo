{
 "cells": [
  {
   "cell_type": "code",
   "execution_count": 41,
   "metadata": {},
   "outputs": [],
   "source": [
    "from pymongo import MongoClient\n",
    "from bson.objectid import ObjectId"
   ]
  },
  {
   "cell_type": "code",
   "execution_count": 2,
   "metadata": {},
   "outputs": [],
   "source": [
    "c = MongoClient('localhost', 27017)"
   ]
  },
  {
   "cell_type": "code",
   "execution_count": 9,
   "metadata": {},
   "outputs": [],
   "source": [
    "db = c.petshop"
   ]
  },
  {
   "cell_type": "code",
   "execution_count": 12,
   "metadata": {},
   "outputs": [
    {
     "data": {
      "text/plain": [
       "<pymongo.results.InsertManyResult at 0x10a630640>"
      ]
     },
     "execution_count": 12,
     "metadata": {},
     "output_type": "execute_result"
    }
   ],
   "source": [
    "db.pets.insert_many([{\"name\": \"Kilha\", \"species\": \"Gato\"}, \n",
    "                     {\"name\": \"Mike\", \"species\": \"Cachorro\"}, \n",
    "                     {\"name\": \"Sally\", \"species\": \"Cachorro\"}, \n",
    "                     {\"name\": \"Chuck\", \"species\": \"Gato\"}])"
   ]
  },
  {
   "cell_type": "code",
   "execution_count": 30,
   "metadata": {},
   "outputs": [
    {
     "data": {
      "text/plain": [
       "<pymongo.results.InsertManyResult at 0x10a168960>"
      ]
     },
     "execution_count": 30,
     "metadata": {},
     "output_type": "execute_result"
    }
   ],
   "source": [
    "db.pets.insert_many([{\"name\": \"Mike\", \"species\": \"Hamster\"}, \n",
    "                     {\"name\": \"Dolly\", \"species\": \"Peixe\"}])"
   ]
  },
  {
   "cell_type": "markdown",
   "metadata": {},
   "source": [
    "#### 1) Adicione outro Peixe e um Hamster com nome Frodo"
   ]
  },
  {
   "cell_type": "code",
   "execution_count": 16,
   "metadata": {},
   "outputs": [
    {
     "name": "stderr",
     "output_type": "stream",
     "text": [
      "/Users/starke/opt/anaconda3/lib/python3.7/site-packages/ipykernel_launcher.py:1: DeprecationWarning: insert is deprecated. Use insert_one or insert_many instead.\n",
      "  \"\"\"Entry point for launching an IPython kernel.\n",
      "/Users/starke/opt/anaconda3/lib/python3.7/site-packages/ipykernel_launcher.py:2: DeprecationWarning: insert is deprecated. Use insert_one or insert_many instead.\n",
      "  \n"
     ]
    },
    {
     "data": {
      "text/plain": [
       "ObjectId('5e69f7fe6cd7f92dc347bc10')"
      ]
     },
     "execution_count": 16,
     "metadata": {},
     "output_type": "execute_result"
    }
   ],
   "source": [
    "db.pets.insert({\"name\": \"Frodo\", \"species\": \"Peixe\"})\n",
    "db.pets.insert({\"name\": \"Frodo\", \"species\": \"Hamster\"})"
   ]
  },
  {
   "cell_type": "markdown",
   "metadata": {},
   "source": [
    "#### 2) Faça uma contagem dos pets na coleção"
   ]
  },
  {
   "cell_type": "code",
   "execution_count": 27,
   "metadata": {},
   "outputs": [
    {
     "data": {
      "text/plain": [
       "7"
      ]
     },
     "execution_count": 27,
     "metadata": {},
     "output_type": "execute_result"
    }
   ],
   "source": [
    "db.pets.count_documents({})"
   ]
  },
  {
   "cell_type": "markdown",
   "metadata": {},
   "source": [
    "#### 3) Retorne apenas um elemento o método prático possível"
   ]
  },
  {
   "cell_type": "code",
   "execution_count": 15,
   "metadata": {},
   "outputs": [
    {
     "data": {
      "text/plain": [
       "{'_id': ObjectId('5e69f159781bdc684f3c9cb3'),\n",
       " 'name': 'Mike',\n",
       " 'species': 'Hamster'}"
      ]
     },
     "execution_count": 15,
     "metadata": {},
     "output_type": "execute_result"
    }
   ],
   "source": [
    "db.pets.find_one()"
   ]
  },
  {
   "cell_type": "markdown",
   "metadata": {},
   "source": [
    "#### 4) Identifique o ID para o Gato Kilha"
   ]
  },
  {
   "cell_type": "code",
   "execution_count": 29,
   "metadata": {},
   "outputs": [
    {
     "data": {
      "text/plain": [
       "ObjectId('5e69f7756cd7f92dc347bc0b')"
      ]
     },
     "execution_count": 29,
     "metadata": {},
     "output_type": "execute_result"
    }
   ],
   "source": [
    "db.pets.find_one({\"name\": \"Kilha\"})[\"_id\"]"
   ]
  },
  {
   "cell_type": "markdown",
   "metadata": {},
   "source": [
    "#### 5) Faça uma busca pelo ID e traga o Hamster Mike"
   ]
  },
  {
   "cell_type": "code",
   "execution_count": 32,
   "metadata": {},
   "outputs": [
    {
     "name": "stdout",
     "output_type": "stream",
     "text": [
      "{'_id': ObjectId('5e69f159781bdc684f3c9cb3'), 'name': 'Mike', 'species': 'Hamster'}\n",
      "{'_id': ObjectId('5e69f7756cd7f92dc347bc0b'), 'name': 'Kilha', 'species': 'Gato'}\n",
      "{'_id': ObjectId('5e69f7756cd7f92dc347bc0c'), 'name': 'Mike', 'species': 'Cachorro'}\n",
      "{'_id': ObjectId('5e69f7756cd7f92dc347bc0d'), 'name': 'Sally', 'species': 'Cachorro'}\n",
      "{'_id': ObjectId('5e69f7756cd7f92dc347bc0e'), 'name': 'Chuck', 'species': 'Gato'}\n",
      "{'_id': ObjectId('5e69f7fe6cd7f92dc347bc0f'), 'name': 'Frodo', 'species': 'Peixe'}\n",
      "{'_id': ObjectId('5e69f7fe6cd7f92dc347bc10'), 'name': 'Frodo', 'species': 'Hamster'}\n",
      "{'_id': ObjectId('5e6a9c936cd7f92dc347bc11'), 'name': 'Mike', 'species': 'Hamster'}\n",
      "{'_id': ObjectId('5e6a9c936cd7f92dc347bc12'), 'name': 'Dolly', 'species': 'Peixe'}\n"
     ]
    }
   ],
   "source": [
    "for data in db.pets.find():\n",
    "    print(data)"
   ]
  },
  {
   "cell_type": "code",
   "execution_count": 42,
   "metadata": {},
   "outputs": [
    {
     "name": "stdout",
     "output_type": "stream",
     "text": [
      "{'_id': ObjectId('5e69f159781bdc684f3c9cb3'), 'name': 'Mike', 'species': 'Hamster'}\n"
     ]
    }
   ],
   "source": [
    "print(db.pets.find_one({'_id': ObjectId('5e69f159781bdc684f3c9cb3')}))"
   ]
  },
  {
   "cell_type": "markdown",
   "metadata": {},
   "source": [
    "#### 6) Use o find para trazer todos os Hamsters"
   ]
  },
  {
   "cell_type": "code",
   "execution_count": 32,
   "metadata": {},
   "outputs": [
    {
     "name": "stdout",
     "output_type": "stream",
     "text": [
      "{'_id': ObjectId('5e69f159781bdc684f3c9cb3'), 'name': 'Mike', 'species': 'Hamster'}\n",
      "{'_id': ObjectId('5e69f7756cd7f92dc347bc0b'), 'name': 'Kilha', 'species': 'Gato'}\n",
      "{'_id': ObjectId('5e69f7756cd7f92dc347bc0c'), 'name': 'Mike', 'species': 'Cachorro'}\n",
      "{'_id': ObjectId('5e69f7756cd7f92dc347bc0d'), 'name': 'Sally', 'species': 'Cachorro'}\n",
      "{'_id': ObjectId('5e69f7756cd7f92dc347bc0e'), 'name': 'Chuck', 'species': 'Gato'}\n",
      "{'_id': ObjectId('5e69f7fe6cd7f92dc347bc0f'), 'name': 'Frodo', 'species': 'Peixe'}\n",
      "{'_id': ObjectId('5e69f7fe6cd7f92dc347bc10'), 'name': 'Frodo', 'species': 'Hamster'}\n",
      "{'_id': ObjectId('5e6a9c936cd7f92dc347bc11'), 'name': 'Mike', 'species': 'Hamster'}\n",
      "{'_id': ObjectId('5e6a9c936cd7f92dc347bc12'), 'name': 'Dolly', 'species': 'Peixe'}\n"
     ]
    }
   ],
   "source": [
    "for data in db.pets.find():\n",
    "    print(data)"
   ]
  },
  {
   "cell_type": "markdown",
   "metadata": {},
   "source": [
    "#### 7) Use o find para listar todos os pets com nome Mike"
   ]
  },
  {
   "cell_type": "code",
   "execution_count": 44,
   "metadata": {},
   "outputs": [
    {
     "name": "stdout",
     "output_type": "stream",
     "text": [
      "{'_id': ObjectId('5e69f159781bdc684f3c9cb3'), 'name': 'Mike', 'species': 'Hamster'}\n",
      "{'_id': ObjectId('5e69f7756cd7f92dc347bc0c'), 'name': 'Mike', 'species': 'Cachorro'}\n",
      "{'_id': ObjectId('5e6a9c936cd7f92dc347bc11'), 'name': 'Mike', 'species': 'Hamster'}\n"
     ]
    }
   ],
   "source": [
    "for data in db.pets.find({'name': 'Mike'}):\n",
    "    print(data)"
   ]
  },
  {
   "cell_type": "markdown",
   "metadata": {},
   "source": [
    "#### 8) Liste apenas o documento que é um Cachorro chamado Mike"
   ]
  },
  {
   "cell_type": "code",
   "execution_count": 45,
   "metadata": {},
   "outputs": [
    {
     "name": "stdout",
     "output_type": "stream",
     "text": [
      "{'_id': ObjectId('5e69f7756cd7f92dc347bc0c'), 'name': 'Mike', 'species': 'Cachorro'}\n"
     ]
    }
   ],
   "source": [
    "for data in db.pets.find({'species': 'Cachorro', 'name': 'Mike'}):\n",
    "    print(data)"
   ]
  }
 ],
 "metadata": {
  "kernelspec": {
   "display_name": "Python 3",
   "language": "python",
   "name": "python3"
  },
  "language_info": {
   "codemirror_mode": {
    "name": "ipython",
    "version": 3
   },
   "file_extension": ".py",
   "mimetype": "text/x-python",
   "name": "python",
   "nbconvert_exporter": "python",
   "pygments_lexer": "ipython3",
   "version": "3.7.4"
  }
 },
 "nbformat": 4,
 "nbformat_minor": 2
}
