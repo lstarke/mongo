{
 "cells": [
  {
   "cell_type": "code",
   "execution_count": 1,
   "metadata": {},
   "outputs": [],
   "source": [
    "from pymongo import MongoClient\n",
    "from bson.objectid import ObjectId\n",
    "import datetime"
   ]
  },
  {
   "cell_type": "code",
   "execution_count": 2,
   "metadata": {},
   "outputs": [],
   "source": [
    "c = MongoClient('localhost', 27017)"
   ]
  },
  {
   "cell_type": "code",
   "execution_count": 3,
   "metadata": {},
   "outputs": [],
   "source": [
    "db = c.stocks2"
   ]
  },
  {
   "cell_type": "code",
   "execution_count": 4,
   "metadata": {},
   "outputs": [
    {
     "data": {
      "text/plain": [
       "6756"
      ]
     },
     "execution_count": 4,
     "metadata": {},
     "output_type": "execute_result"
    }
   ],
   "source": [
    "db.stocks2.count_documents({})"
   ]
  },
  {
   "cell_type": "markdown",
   "metadata": {},
   "source": [
    "#### 1) Liste as ações com profit acima de 0.5 (limite a 10 o resultado)"
   ]
  },
  {
   "cell_type": "code",
   "execution_count": 9,
   "metadata": {},
   "outputs": [
    {
     "name": "stdout",
     "output_type": "stream",
     "text": [
      "{'_id': ObjectId('52853800bb1177ca391c180f'), 'Ticker': 'AB', 'Profit Margin': 0.896, 'Institutional Ownership': 0.368, 'EPS growth past 5 years': -0.348, 'Total Debt/Equity': 0, 'Return on Assets': 0.086, 'Sector': 'Financial', 'P/S': 13.25, 'Change from Open': 0.0047, 'Performance (YTD)': 0.3227, 'Performance (Week)': -0.0302, 'Insider Transactions': 0.5973, 'P/B': 1.4, 'EPS growth quarter over quarter': 2.391, 'Payout Ratio': 1.75, 'Performance (Quarter)': 0.0929, 'Forward P/E': 12.58, 'P/E': 15.82, '200-Day Simple Moving Average': 0.0159, 'Shares Outstanding': 92.26, 'Earnings Date': datetime.datetime(2013, 10, 24, 12, 30), '52-Week High': -0.1859, 'Change': -0.0009, 'Analyst Recom': 3, 'Volatility (Week)': 0.0264, 'Country': 'USA', 'Return on Equity': 0.087, '50-Day Low': 0.123, 'Price': 21.5, '50-Day High': -0.0574, 'Return on Investment': 0.033, 'Shares Float': 86.66, 'Dividend Yield': 0.0743, 'EPS growth next 5 years': 0.08, 'Industry': 'Asset Management', 'Beta': 1.63, 'Operating Margin': 1, 'EPS (ttm)': 1.36, 'PEG': 1.98, 'Float Short': 0.0253, '52-Week Low': 0.4687, 'Average True Range': 0.59, 'EPS growth next year': 0.0654, 'Sales growth past 5 years': -0.298, 'Company': 'AllianceBernstein Holding L.P.', 'Gap': -0.0056, 'Relative Volume': 0.63, 'Volatility (Month)': 0.0298, 'Market Cap': 1985.39, 'Volume': 199677, 'Short Ratio': 6.3, 'Performance (Half Year)': -0.1159, 'Relative Strength Index (14)': 50.05, 'Insider Ownership': 0.002, '20-Day Simple Moving Average': -0.007, 'Performance (Month)': 0.0847, 'P/Free Cash Flow': 93.21, 'Institutional Transactions': 0.0818, 'Performance (Year)': 0.3884, 'LT Debt/Equity': 0, 'Average Volume': 348.08, 'EPS growth this year': 1.567, '50-Day Simple Moving Average': 0.0458}\n",
      "{'_id': ObjectId('52853801bb1177ca391c1895'), 'Ticker': 'AGNC', 'Profit Margin': 0.972, 'Institutional Ownership': 0.481, 'EPS growth past 5 years': -0.0107, 'Total Debt/Equity': 8.56, 'Return on Assets': 0.022, 'Sector': 'Financial', 'P/S': 3.77, 'Change from Open': 0.0102, 'Performance (YTD)': -0.1652, 'Performance (Week)': -0.017, 'Insider Transactions': 0.4931, 'P/B': 0.86, 'EPS growth quarter over quarter': -8.2, 'Payout Ratio': 0.79, 'Performance (Quarter)': -0.0083, 'Forward P/E': 7.64, 'P/E': 3.68, '200-Day Simple Moving Average': -0.1282, 'Shares Outstanding': 390.6, 'Earnings Date': datetime.datetime(2013, 10, 28, 20, 30), '52-Week High': -0.2938, 'P/Cash': 3.93, 'Change': 0.0131, 'Analyst Recom': 2.6, 'Volatility (Week)': 0.0268, 'Country': 'USA', 'Return on Equity': 0.205, '50-Day Low': 0.0695, 'Price': 21.71, '50-Day High': -0.1066, 'Return on Investment': 0.015, 'Shares Float': 383.97, 'Dividend Yield': 0.1493, 'EPS growth next 5 years': 0.035, 'Industry': 'REIT - Residential', 'Beta': 0.51, 'Sales growth quarter over quarter': 0.073, 'Operating Margin': 0.67, 'EPS (ttm)': 5.82, 'PEG': 1.05, 'Float Short': 0.0311, '52-Week Low': 0.1117, 'Average True Range': 0.52, 'EPS growth next year': -0.3603, 'Company': 'American Capital Agency Corp.', 'Gap': 0.0028, 'Relative Volume': 0.71, 'Volatility (Month)': 0.02, 'Market Cap': 8370.56, 'Volume': 4576064, 'Gross Margin': 0.746, 'Short Ratio': 1.69, 'Performance (Half Year)': -0.2136, 'Relative Strength Index (14)': 43.53, 'Insider Ownership': 0.003, '20-Day Simple Moving Average': -0.0318, 'Performance (Month)': -0.042, 'Institutional Transactions': 0.0077, 'Performance (Year)': -0.1503, 'LT Debt/Equity': 0, 'Average Volume': 7072.83, 'EPS growth this year': -0.169, '50-Day Simple Moving Average': -0.0376}\n",
      "{'_id': ObjectId('52853801bb1177ca391c1950'), 'Ticker': 'ARCC', 'Profit Margin': 0.654, 'Institutional Ownership': 0.513, 'EPS growth past 5 years': 0.105, 'Total Debt/Equity': 0.59, 'Return on Assets': 0.08, 'Sector': 'Financial', 'P/S': 5.87, 'Change from Open': 0.0105, 'Performance (YTD)': 0.0805, 'Performance (Week)': 0.0023, 'P/B': 1.08, 'EPS growth quarter over quarter': 0.22, 'Payout Ratio': 0.714, 'Performance (Quarter)': 0.0548, 'Forward P/E': 10.69, 'P/E': 8.32, '200-Day Simple Moving Average': 0.046, 'Shares Outstanding': 266.17, 'Earnings Date': datetime.datetime(2013, 11, 5, 13, 30), '52-Week High': -0.0014, 'P/Cash': 46.93, 'Change': 0.0082, 'Analyst Recom': 2, 'Volatility (Week)': 0.0129, 'Country': 'USA', 'Return on Equity': 0.13, '50-Day Low': 0.0527, 'Price': 17.86, '50-Day High': -0.0014, 'Return on Investment': 0.056, 'Shares Float': 279.11, 'Dividend Yield': 0.0858, 'EPS growth next 5 years': 0.08, 'Industry': 'Diversified Investments', 'Beta': 1.62, 'Sales growth quarter over quarter': 0.16, 'Operating Margin': 0.485, 'EPS (ttm)': 2.13, 'PEG': 1.04, 'Float Short': 0.0146, '52-Week Low': 0.2192, 'Average True Range': 0.21, 'EPS growth next year': 0.0209, 'Sales growth past 5 years': 0.317, 'Company': 'Ares Capital Corporation', 'Gap': -0.0023, 'Relative Volume': 0.68, 'Volatility (Month)': 0.0109, 'Market Cap': 4716.6, 'Volume': 938330, 'Gross Margin': 0.528, 'Short Ratio': 2.68, 'Performance (Half Year)': 0.0267, 'Relative Strength Index (14)': 61.2, '20-Day Simple Moving Average': 0.0211, 'Performance (Month)': 0.0381, 'Institutional Transactions': 0.0183, 'Performance (Year)': 0.1574, 'LT Debt/Equity': 0, 'Average Volume': 1522.64, 'EPS growth this year': 0.417, '50-Day Simple Moving Average': 0.0272}\n",
      "{'_id': ObjectId('52853801bb1177ca391c195a'), 'Ticker': 'ARI', 'Profit Margin': 0.576, 'Institutional Ownership': 0.631, 'EPS growth past 5 years': 0.1829, 'Total Debt/Equity': 0.28, 'Return on Assets': 0.046, 'Sector': 'Financial', 'P/S': 9.35, 'Change from Open': 0.0214, 'Performance (YTD)': 0.0803, 'Performance (Week)': -0.0055, 'Insider Transactions': -0.0353, 'P/B': 0.89, 'EPS growth quarter over quarter': -0.413, 'Payout Ratio': 1.159, 'Performance (Quarter)': 0.0861, 'Forward P/E': 9.57, 'P/E': 11.88, '200-Day Simple Moving Average': 0.0497, 'Shares Outstanding': 37.37, 'Earnings Date': datetime.datetime(2013, 11, 4, 21, 30), '52-Week High': -0.0404, 'P/Cash': 3.88, 'Change': 0.024, 'Analyst Recom': 2.1, 'Volatility (Week)': 0.0135, 'Country': 'USA', 'Return on Equity': 0.064, '50-Day Low': 0.1598, 'Price': 16.67, '50-Day High': 0.0109, 'Return on Investment': 0.044, 'Shares Float': 36.7, 'Dividend Yield': 0.0983, 'EPS growth next 5 years': 0.025, 'Industry': 'REIT - Diversified', 'Beta': 0.55, 'Sales growth quarter over quarter': 0.309, 'Operating Margin': 0.682, 'EPS (ttm)': 1.37, 'PEG': 4.75, 'Float Short': 0.0182, '52-Week Low': 0.2179, 'Average True Range': 0.24, 'EPS growth next year': 0.1739, 'Company': 'Apollo Commercial Real Estate Finance, Inc.', 'Gap': 0.0025, 'Relative Volume': 1.48, 'Volatility (Month)': 0.0152, 'Market Cap': 608.45, 'Volume': 299352, 'Gross Margin': 0.919, 'Short Ratio': 3.01, 'Performance (Half Year)': -0.0502, 'Relative Strength Index (14)': 68.71, 'Insider Ownership': 0.004, '20-Day Simple Moving Average': 0.0331, 'Performance (Month)': 0.0376, 'P/Free Cash Flow': 126.76, 'Institutional Transactions': 0.0318, 'Performance (Year)': 0.1259, 'LT Debt/Equity': 0.28, 'Average Volume': 222.35, 'EPS growth this year': 0.193, '50-Day Simple Moving Average': 0.0673}\n",
      "{'_id': ObjectId('52853801bb1177ca391c1968'), 'Ticker': 'ARR', 'Profit Margin': 0.848, 'Institutional Ownership': 0.318, 'EPS growth past 5 years': 0.813, 'Total Debt/Equity': 8.92, 'Return on Assets': 0.031, 'Sector': 'Financial', 'P/S': 1.7, 'Change from Open': 0.0223, 'Performance (YTD)': -0.2821, 'Performance (Week)': -0.0025, 'Insider Transactions': 0.2313, 'P/B': 0.68, 'Payout Ratio': 0.474, 'Performance (Quarter)': -0.0195, 'Forward P/E': 6.79, 'P/E': 1.88, '200-Day Simple Moving Average': -0.1454, 'Shares Outstanding': 372.59, 'Earnings Date': datetime.datetime(2013, 10, 28, 4, 0), '52-Week High': -0.3453, 'P/Cash': 1.87, 'Change': 0.0249, 'Analyst Recom': 2.6, 'Volatility (Week)': 0.024, 'Country': 'USA', 'Return on Equity': 0.308, '50-Day Low': 0.0728, 'Price': 4.12, '50-Day High': -0.0678, 'Return on Investment': 0.011, 'Shares Float': 366.32, 'Dividend Yield': 0.1493, 'EPS growth next 5 years': -0.049, 'Industry': 'REIT - Residential', 'Beta': 0.3, 'Operating Margin': 0.858, 'EPS (ttm)': 2.14, 'Float Short': 0.0415, '52-Week Low': 0.1495, 'Average True Range': 0.09, 'EPS growth next year': -0.0878, 'Company': 'ARMOUR Residential REIT, Inc.', 'Gap': 0.0025, 'Relative Volume': 1.37, 'Volatility (Month)': 0.0218, 'Market Cap': 1497.82, 'Volume': 6608855, 'Short Ratio': 2.87, 'Performance (Half Year)': -0.2651, 'Relative Strength Index (14)': 51.26, 'Insider Ownership': 0.002, '20-Day Simple Moving Average': -0.0024, 'Performance (Month)': -0.0099, 'P/Free Cash Flow': 10.46, 'Institutional Transactions': 0.0016, 'Performance (Year)': -0.286, 'LT Debt/Equity': 0, 'Average Volume': 5299, 'EPS growth this year': 7.533, '50-Day Simple Moving Average': 0.0048}\n",
      "{'_id': ObjectId('52853801bb1177ca391c1998'), 'Ticker': 'ATHL', 'Profit Margin': 0.732, 'Institutional Ownership': 0.753, 'EPS growth past 5 years': 0, 'Total Debt/Equity': 1.81, 'Current Ratio': 0.5, 'Return on Assets': 0.218, 'Sector': 'Basic Materials', 'P/S': 10.42, 'Change from Open': 0.0088, 'Performance (YTD)': 0.1851, 'Performance (Week)': 0.1049, 'Quick Ratio': 0.5, 'Insider Transactions': -0.2682, 'P/B': 7.24, 'EPS growth quarter over quarter': -0.566, 'Payout Ratio': 0, 'Performance (Quarter)': 0.2007, 'Forward P/E': 27.38, 'P/E': 28.16, '200-Day Simple Moving Average': 0.0877, 'Shares Outstanding': 66.34, 'Earnings Date': datetime.datetime(2013, 11, 11, 21, 30), '52-Week High': -0.0439, 'P/Cash': 866.67, 'Change': 0.0126, 'Analyst Recom': 2.3, 'Volatility (Week)': 0.0678, 'Country': 'USA', 'Return on Equity': 0.528, '50-Day Low': 0.2479, 'Price': 33.07, '50-Day High': -0.0439, 'Return on Investment': 0.08, 'Shares Float': 76.13, 'EPS growth next 5 years': 0.5, 'Industry': 'Independent Oil & Gas', 'Sales growth quarter over quarter': 0.964, 'Operating Margin': 0.394, 'EPS (ttm)': 1.16, 'PEG': 0.56, 'Float Short': 0.0046, '52-Week Low': 0.3097, 'Average True Range': 1.53, 'EPS growth next year': 0.6013, 'Company': 'Athlon Energy Inc.', 'Gap': 0.0037, 'Relative Volume': 0.59, 'Volatility (Month)': 0.0464, 'Market Cap': 2166.66, 'Volume': 177265, 'Gross Margin': 0.791, 'Short Ratio': 1.07, 'Relative Strength Index (14)': 56.58, 'Insider Ownership': 0.09, '20-Day Simple Moving Average': 0.0373, 'Performance (Month)': 0.0102, 'LT Debt/Equity': 1.81, 'Average Volume': 330.36, 'EPS growth this year': 0, '50-Day Simple Moving Average': 0.0476}\n",
      "{'_id': ObjectId('52853801bb1177ca391c19f6'), 'Ticker': 'AYR', 'Profit Margin': 0.548, 'Institutional Ownership': 0.745, 'EPS growth past 5 years': -0.228, 'Total Debt/Equity': 2.08, 'Return on Assets': 0.066, 'Sector': 'Services', 'P/S': 1.92, 'Change from Open': 0.0058, 'Performance (YTD)': 0.5577, 'Performance (Week)': -0.0032, 'Insider Transactions': -0.0052, 'P/B': 0.83, 'EPS growth quarter over quarter': -0.656, 'Payout Ratio': 0.123, 'Performance (Quarter)': 0.1566, 'Forward P/E': 10.45, 'P/E': 126.07, '200-Day Simple Moving Average': 0.2063, 'Shares Outstanding': 70.35, 'Earnings Date': datetime.datetime(2013, 10, 31, 12, 30), '52-Week High': -0.0257, 'P/Cash': 5.58, 'Change': 0.0042, 'Analyst Recom': 2.6, 'Volatility (Week)': 0.0202, 'Country': 'USA', 'Return on Equity': 0.257, '50-Day Low': 0.1304, 'Price': 18.99, '50-Day High': -0.0257, 'Return on Investment': 0.007, 'Shares Float': 64.67, 'Dividend Yield': 0.0349, 'EPS growth next 5 years': 0.292, 'Industry': 'Rental & Leasing Services', 'Beta': 2.07, 'Sales growth quarter over quarter': -0.016, 'Operating Margin': 0.457, 'EPS (ttm)': 0.15, 'PEG': 4.32, 'Float Short': 0.0327, '52-Week Low': 0.8106, 'Average True Range': 0.37, 'EPS growth next year': 0.4873, 'Sales growth past 5 years': 0.125, 'Company': 'Aircastle LTD', 'Gap': -0.0016, 'Relative Volume': 0.39, 'Volatility (Month)': 0.0193, 'Market Cap': 1330.3, 'Volume': 200382, 'Short Ratio': 3.78, 'Performance (Half Year)': 0.2295, 'Relative Strength Index (14)': 58.67, 'Insider Ownership': 0.008, '20-Day Simple Moving Average': 0.0054, 'Performance (Month)': 0.0849, 'P/Free Cash Flow': 3.39, 'Institutional Transactions': -0.0268, 'Performance (Year)': 0.7493, 'LT Debt/Equity': 2.08, 'Average Volume': 559.42, 'EPS growth this year': -0.72, '50-Day Simple Moving Average': 0.0545}\n",
      "{'_id': ObjectId('52853801bb1177ca391c1a97'), 'Ticker': 'BK', 'Profit Margin': 0.63, 'Institutional Ownership': 0.826, 'EPS growth past 5 years': -0.03, 'Total Debt/Equity': 0.53, 'Return on Assets': 0.006, 'Sector': 'Financial', 'P/S': 11.32, 'Change from Open': -0.0015, 'Performance (YTD)': 0.3095, 'Performance (Week)': 0.0195, 'Insider Transactions': -0.1546, 'P/B': 1.07, 'EPS growth quarter over quarter': 0.344, 'Payout Ratio': 0.304, 'Performance (Quarter)': 0.0898, 'Forward P/E': 13.19, 'P/E': 18.03, '200-Day Simple Moving Average': 0.127, 'Shares Outstanding': 1148.72, 'Earnings Date': datetime.datetime(2013, 10, 16, 12, 30), '52-Week High': -0.0069, 'P/Cash': 0.22, 'Change': 0.003, 'Analyst Recom': 2.7, 'Volatility (Week)': 0.0216, 'Country': 'USA', 'Return on Equity': 0.06, '50-Day Low': 0.1255, 'Price': 33.1, '50-Day High': -0.0069, 'Return on Investment': 0.042, 'Shares Float': 1146.23, 'Dividend Yield': 0.0182, 'EPS growth next 5 years': 0.066, 'Industry': 'Asset Management', 'Beta': 1.16, 'Sales growth quarter over quarter': -0.025, 'EPS (ttm)': 1.83, 'PEG': 2.73, 'Float Short': 0.0125, '52-Week Low': 0.4512, 'Average True Range': 0.54, 'EPS growth next year': 0.096, 'Sales growth past 5 years': -0.092, 'Company': 'The Bank of New York Mellon Corporation', 'Gap': 0.0045, 'Relative Volume': 0.61, 'Volatility (Month)': 0.0155, 'Market Cap': 37907.89, 'Volume': 2578576, 'Short Ratio': 3.1, 'Performance (Half Year)': 0.1156, 'Relative Strength Index (14)': 63.27, 'Insider Ownership': 0.001, '20-Day Simple Moving Average': 0.032, 'Performance (Month)': 0.0749, 'Institutional Transactions': 0.0015, 'Performance (Year)': 0.4019, 'LT Debt/Equity': 0.53, 'Average Volume': 4611.68, 'EPS growth this year': 0, '50-Day Simple Moving Average': 0.0626}\n",
      "{'_id': ObjectId('52853801bb1177ca391c1abd'), 'Ticker': 'BLX', 'Profit Margin': 0.588, 'Institutional Ownership': 0.281, 'EPS growth past 5 years': 0.045, 'Total Debt/Equity': 3.73, 'Return on Assets': 0.017, 'Sector': 'Financial', 'P/S': 5.22, 'Change from Open': 0.0103, 'Performance (YTD)': 0.2812, 'Performance (Week)': -0.0131, 'P/B': 1.19, 'EPS growth quarter over quarter': -0.506, 'Payout Ratio': 0.372, 'Performance (Quarter)': 0.0597, 'Forward P/E': 9.32, 'P/E': 13.01, '200-Day Simple Moving Average': 0.1134, 'Shares Outstanding': 38.22, 'Earnings Date': datetime.datetime(2013, 10, 16, 12, 30), '52-Week High': -0.0161, 'P/Cash': 1.71, 'Change': 0.0095, 'Analyst Recom': 1.7, 'Volatility (Week)': 0.023, 'Country': 'Panama', 'Return on Equity': 0.137, '50-Day Low': 0.1075, 'Price': 26.54, '50-Day High': -0.0161, 'Return on Investment': 0.027, 'Shares Float': 29.25, 'Dividend Yield': 0.0456, 'EPS growth next 5 years': 0.0698, 'Industry': 'Foreign Money Center Banks', 'Beta': 1.19, 'Sales growth quarter over quarter': 0, 'Operating Margin': 0.809, 'EPS (ttm)': 2.02, 'PEG': 1.86, 'Float Short': 0.0296, '52-Week Low': 0.366, 'Average True Range': 0.49, 'EPS growth next year': 0.2192, 'Sales growth past 5 years': -0.062, 'Company': 'Banco Latinoamericano de Comercio Exterior, S.A', 'Gap': -0.0008, 'Relative Volume': 1.05, 'Volatility (Month)': 0.0205, 'Market Cap': 1004.75, 'Volume': 102478, 'Short Ratio': 8.07, 'Performance (Half Year)': 0.1597, 'Relative Strength Index (14)': 60.34, 'Insider Ownership': 0.0706, '20-Day Simple Moving Average': 0.0098, 'Performance (Month)': 0.0554, 'P/Free Cash Flow': 56.77, 'Institutional Transactions': 0.0149, 'Performance (Year)': 0.2983, 'LT Debt/Equity': 1.91, 'Average Volume': 107.45, 'EPS growth this year': 0.098, '50-Day Simple Moving Average': 0.0498}\n",
      "{'_id': ObjectId('52853801bb1177ca391c1af0'), 'Ticker': 'BPO', 'Profit Margin': 0.503, 'Institutional Ownership': 0.958, 'EPS growth past 5 years': 0.354, 'Total Debt/Equity': 1.15, 'Current Ratio': 1, 'Return on Assets': 0.043, 'Sector': 'Financial', 'P/S': 4.04, 'Change from Open': 0.001, 'Performance (YTD)': 0.1519, 'Performance (Week)': -0.0052, 'Quick Ratio': 1, 'P/B': 0.9, 'EPS growth quarter over quarter': -0.415, 'Payout Ratio': 0.235, 'Performance (Quarter)': 0.1825, 'Forward P/E': 18.74, 'P/E': 8.65, '200-Day Simple Moving Average': 0.1124, 'Shares Outstanding': 505, 'Earnings Date': datetime.datetime(2011, 2, 11, 13, 30), '52-Week High': -0.022, 'P/Cash': 22.13, 'Change': 0.0021, 'Analyst Recom': 3.1, 'Volatility (Week)': 0.0127, 'Country': 'USA', 'Return on Equity': 0.115, '50-Day Low': 0.1976, 'Price': 19.15, '50-Day High': -0.022, 'Return on Investment': 0.015, 'Shares Float': 504.86, 'Dividend Yield': 0.0293, 'EPS growth next 5 years': 0.0735, 'Industry': 'Property Management', 'Beta': 1.64, 'Sales growth quarter over quarter': 0.01, 'Operating Margin': 0.552, 'EPS (ttm)': 2.21, 'PEG': 1.18, 'Float Short': 0.0062, '52-Week Low': 0.2728, 'Average True Range': 0.23, 'EPS growth next year': -0.105, 'Sales growth past 5 years': -0.043, 'Company': 'Brookfield Properties Corporation', 'Gap': 0.001, 'Relative Volume': 0.17, 'Volatility (Month)': 0.0112, 'Market Cap': 9650.55, 'Volume': 249482, 'Gross Margin': 0.621, 'Short Ratio': 1.9, 'Performance (Half Year)': 0.0269, 'Relative Strength Index (14)': 62.08, 'Insider Ownership': 0.4972, '20-Day Simple Moving Average': 0.012, 'Performance (Month)': 0.0154, 'Institutional Transactions': -0.004, 'Performance (Year)': 0.2482, 'LT Debt/Equity': 1.15, 'Average Volume': 1650.73, 'EPS growth this year': -0.212, '50-Day Simple Moving Average': 0.0538}\n"
     ]
    }
   ],
   "source": [
    "for data in db.stocks2.find( { \"Profit Margin\" : { '$gte': 0.5 } } ).limit(10):\n",
    "    print(data)"
   ]
  },
  {
   "cell_type": "markdown",
   "metadata": {},
   "source": [
    "#### 2) Liste as ações com perdas (limite a 10 novamente)"
   ]
  },
  {
   "cell_type": "code",
   "execution_count": 11,
   "metadata": {},
   "outputs": [
    {
     "name": "stdout",
     "output_type": "stream",
     "text": [
      "{'_id': ObjectId('52853800bb1177ca391c1806'), 'Ticker': 'AAOI', 'Profit Margin': -0.023, 'Institutional Ownership': 0.114, 'EPS growth past 5 years': 0, 'Current Ratio': 1.5, 'Return on Assets': -0.048, 'Sector': 'Technology', 'P/S': 2.3, 'Change from Open': -0.0215, 'Performance (YTD)': 0.2671, 'Performance (Week)': -0.0381, 'Quick Ratio': 0.9, 'EPS growth quarter over quarter': -1, 'Forward P/E': 12.77, '200-Day Simple Moving Average': 0.0654, 'Shares Outstanding': 12.6, '52-Week High': -0.0904, 'P/Cash': 16.23, 'Change': -0.0269, 'Analyst Recom': 1.8, 'Volatility (Week)': 0.0377, 'Country': 'USA', 'Return on Equity': 0.043, '50-Day Low': 0.3539, 'Price': 12.28, '50-Day High': -0.0904, 'Return on Investment': -0.004, 'Shares Float': 11.46, 'Industry': 'Semiconductor - Integrated Circuits', 'Sales growth quarter over quarter': 0.256, 'Operating Margin': -0.007, 'EPS (ttm)': -0.13, 'Float Short': 0.0011, '52-Week Low': 0.3539, 'Average True Range': 0.63, 'EPS growth next year': 38.52, 'Company': 'Applied Optoelectronics, Inc.', 'Gap': -0.0055, 'Relative Volume': 0.12, 'Volatility (Month)': 0.0608, 'Market Cap': 159.06, 'Volume': 12203, 'Gross Margin': 0.292, 'Short Ratio': 0.12, 'Insider Ownership': 0.021, '20-Day Simple Moving Average': -0.0251, 'Performance (Month)': 0.2397, 'Average Volume': 110.95, 'EPS growth this year': 0.833, '50-Day Simple Moving Average': 0.0654}\n",
      "{'_id': ObjectId('52853800bb1177ca391c180c'), 'Ticker': 'AAV', 'Profit Margin': -0.232, 'Institutional Ownership': 0.58, 'EPS growth past 5 years': -0.265, 'Total Debt/Equity': 0.32, 'Current Ratio': 0.8, 'Return on Assets': -0.032, 'Sector': 'Basic Materials', 'P/S': 2.64, 'Change from Open': 0.0286, 'Performance (YTD)': 0.1914, 'Performance (Week)': 0.0158, 'Quick Ratio': 0.8, 'P/B': 0.63, 'EPS growth quarter over quarter': 1.556, 'Performance (Quarter)': 0.0349, '200-Day Simple Moving Average': 0.0569, 'Shares Outstanding': 168.38, 'Earnings Date': datetime.datetime(2011, 3, 16, 4, 0), '52-Week High': -0.1242, 'Change': 0.0233, 'Analyst Recom': 2.7, 'Volatility (Week)': 0.0381, 'Country': 'Canada', 'Return on Equity': -0.055, '50-Day Low': 0.1127, 'Price': 3.95, '50-Day High': -0.0436, 'Return on Investment': -0.068, 'Shares Float': 167.07, 'Industry': 'Oil & Gas Drilling & Exploration', 'Beta': 2.05, 'Sales growth quarter over quarter': 0.399, 'Operating Margin': 0.102, 'EPS (ttm)': -0.34, 'Float Short': 0.0008, '52-Week Low': 0.4158, 'Average True Range': 0.12, 'EPS growth next year': -0.667, 'Sales growth past 5 years': -0.121, 'Company': 'Advantage Oil & Gas Ltd.', 'Gap': -0.0052, 'Relative Volume': 0.85, 'Volatility (Month)': 0.0303, 'Market Cap': 649.96, 'Volume': 116750, 'Gross Margin': 0.682, 'Short Ratio': 0.89, 'Performance (Half Year)': 0.0078, 'Relative Strength Index (14)': 52.62, 'Insider Ownership': 0.0025, '20-Day Simple Moving Average': -0.0001, 'Performance (Month)': 0.0158, 'Institutional Transactions': 0.0402, 'Performance (Year)': 0.1386, 'LT Debt/Equity': 0.32, 'Average Volume': 149.81, 'EPS growth this year': 0.42, '50-Day Simple Moving Average': 0.023}\n",
      "{'_id': ObjectId('52853800bb1177ca391c1817'), 'Ticker': 'ABFS', 'Profit Margin': -0.005, 'Institutional Ownership': 0.921, 'EPS growth past 5 years': -0.164, 'Total Debt/Equity': 0.31, 'Current Ratio': 1.3, 'Return on Assets': -0.01, 'Sector': 'Services', 'P/S': 0.37, 'Change from Open': -0.006, 'Performance (YTD)': 2.3474, 'Performance (Week)': 0.1949, 'Quick Ratio': 1.3, 'Insider Transactions': 0.1293, 'P/B': 1.69, 'EPS growth quarter over quarter': -0.591, 'Performance (Quarter)': 0.3813, 'Forward P/E': 18.66, '200-Day Simple Moving Average': 0.6449, 'Shares Outstanding': 25.69, 'Earnings Date': datetime.datetime(2013, 11, 11, 13, 30), '52-Week High': -0.0166, 'P/Cash': 6.87, 'Change': -0.0082, 'Analyst Recom': 2.8, 'Volatility (Week)': 0.0625, 'Country': 'USA', 'Return on Equity': -0.022, '50-Day Low': 0.474, 'Price': 31.44, '50-Day High': -0.0166, 'Return on Investment': -0.008, 'Shares Float': 24.3, 'Dividend Yield': 0.0038, 'EPS growth next 5 years': 0.1, 'Industry': 'Trucking', 'Beta': 1.91, 'Sales growth quarter over quarter': 0.13, 'Operating Margin': -0.006, 'EPS (ttm)': -0.4, 'Float Short': 0.1176, '52-Week Low': 3.9271, 'Average True Range': 1.58, 'EPS growth next year': 7.0142, 'Sales growth past 5 years': 0.024, 'Company': 'Arkansas Best Corporation', 'Gap': -0.0022, 'Relative Volume': 0.73, 'Volatility (Month)': 0.0537, 'Market Cap': 814.5, 'Volume': 351906, 'Gross Margin': 0.212, 'Short Ratio': 5.44, 'Performance (Half Year)': 0.8592, 'Relative Strength Index (14)': 67.77, 'Insider Ownership': 0.034, '20-Day Simple Moving Average': 0.1304, 'Performance (Month)': 0.3319, 'P/Free Cash Flow': 13.67, 'Institutional Transactions': 0.0328, 'Performance (Year)': 3.4336, 'LT Debt/Equity': 0.2, 'Average Volume': 525.42, 'EPS growth this year': -2.348, '50-Day Simple Moving Average': 0.1974}\n",
      "{'_id': ObjectId('52853800bb1177ca391c1815'), 'Ticker': 'ABCD', 'Profit Margin': -0.645, 'Institutional Ownership': 0.186, 'EPS growth past 5 years': -0.195, 'Current Ratio': 1.4, 'Return on Assets': -0.416, 'Sector': 'Services', 'P/S': 0.41, 'Change from Open': 0, 'Performance (YTD)': 0.2072, 'Performance (Week)': 0.0229, 'Quick Ratio': 1.2, 'Insider Transactions': -0.0267, 'EPS growth quarter over quarter': 1.022, 'Performance (Quarter)': -0.0496, '200-Day Simple Moving Average': 0.0446, 'Shares Outstanding': 47.36, 'Earnings Date': datetime.datetime(2013, 11, 7, 21, 30), '52-Week High': -0.2757, 'P/Cash': 1.37, 'Change': 0, 'Analyst Recom': 2, 'Volatility (Week)': 0.0737, 'Country': 'USA', 'Return on Equity': 3.596, '50-Day Low': 0.072, 'Price': 1.34, '50-Day High': -0.2299, 'Return on Investment': -0.876, 'Shares Float': 15.11, 'Industry': 'Education & Training Services', 'Beta': 1.7, 'Sales growth quarter over quarter': 0.059, 'Operating Margin': 0.048, 'EPS (ttm)': -2.06, 'Float Short': 0.0007, '52-Week Low': 0.5952, 'Average True Range': 0.09, 'Sales growth past 5 years': 0.084, 'Company': 'Cambium Learning Group, Inc.', 'Gap': 0, 'Relative Volume': 0.04, 'Volatility (Month)': 0.0584, 'Market Cap': 63.46, 'Volume': 1600, 'Gross Margin': 0.552, 'Short Ratio': 0.21, 'Performance (Half Year)': 0.1356, 'Relative Strength Index (14)': 48.07, 'Insider Ownership': 0.003, '20-Day Simple Moving Average': 0.0037, 'Performance (Month)': -0.0074, 'P/Free Cash Flow': 2.47, 'Institutional Transactions': -0.095, 'Performance (Year)': 0.6543, 'Average Volume': 48.58, 'EPS growth this year': -1.533, '50-Day Simple Moving Average': -0.064}\n",
      "{'_id': ObjectId('52853800bb1177ca391c181b'), 'Ticker': 'ABMC', 'Profit Margin': -0.0966, 'Institutional Ownership': 0.12, 'EPS growth past 5 years': 0, 'Total Debt/Equity': 0.63, 'Current Ratio': 1.74, 'Return on Assets': -0.1194, 'Sector': 'Healthcare', 'P/S': 0.34, 'Change from Open': 0, 'Performance (YTD)': 0.3077, 'Performance (Week)': 0.1333, 'Quick Ratio': 0.57, 'P/B': 1, 'EPS growth quarter over quarter': -2.4252, 'Performance (Quarter)': 0, '200-Day Simple Moving Average': 0.0413, 'Shares Outstanding': 21.74, 'Earnings Date': datetime.datetime(2013, 11, 11, 5, 0), '52-Week High': -0.3929, 'P/Cash': 6.26, 'Change': 0, 'Volatility (Week)': 0.0695, 'Country': 'USA', 'Return on Equity': -0.2455, '50-Day Low': 1.4286, 'Price': 0.17, '50-Day High': -0.0556, 'Return on Investment': -0.1961, 'Shares Float': 18.7, 'Industry': 'Diagnostic Substances', 'Beta': 1.71, 'Sales growth quarter over quarter': -0.1896, 'Operating Margin': -0.0734, 'EPS (ttm)': -0.05, 'Float Short': 0.0003, '52-Week Low': 1.4286, 'Average True Range': 0.02, 'Sales growth past 5 years': 0.0028, 'Company': 'American Bio Medica Corp.', 'Gap': 0, 'Relative Volume': 0.04, 'Volatility (Month)': 0.0517, 'Market Cap': 3.7, 'Volume': 0, 'Gross Margin': 0.3916, 'Short Ratio': 0.43, 'Performance (Half Year)': 0.0625, 'Relative Strength Index (14)': 56.93, 'Insider Ownership': 0.14, '20-Day Simple Moving Average': 0.1039, 'Performance (Month)': 0.2143, 'Institutional Transactions': -0.1183, 'Performance (Year)': -0.0556, 'LT Debt/Equity': 0.2, 'Average Volume': 13.73, 'EPS growth this year': 0.1416, '50-Day Simple Moving Average': 0.1502}\n",
      "{'_id': ObjectId('52853800bb1177ca391c1821'), 'Ticker': 'ABX', 'Profit Margin': -0.769, 'Institutional Ownership': 0.739, 'EPS growth past 5 years': -0.206, 'Total Debt/Equity': 1.13, 'Current Ratio': 1.8, 'Return on Assets': -0.241, 'Sector': 'Basic Materials', 'P/S': 1.32, 'Change from Open': -0.0019, 'Performance (YTD)': -0.4728, 'Performance (Week)': -0.0131, 'Quick Ratio': 1, 'P/B': 1.33, 'EPS growth quarter over quarter': -0.727, 'Performance (Quarter)': -0.084, 'Forward P/E': 8.19, '200-Day Simple Moving Average': -0.1368, 'Shares Outstanding': 1001, 'Earnings Date': datetime.datetime(2011, 2, 17, 13, 30), '52-Week High': -0.4877, 'P/Cash': 7.94, 'Change': 0.0014, 'Analyst Recom': 2.6, 'Volatility (Week)': 0.0202, 'Country': 'Canada', 'Return on Equity': -0.592, '50-Day Low': 0.0581, 'Price': 18.13, '50-Day High': -0.121, 'Return on Investment': -0.017, 'Shares Float': 997.93, 'Dividend Yield': 0.011, 'EPS growth next 5 years': 0.02, 'Industry': 'Gold', 'Beta': 0.46, 'Sales growth quarter over quarter': -0.122, 'Operating Margin': 0.366, 'EPS (ttm)': -10.08, 'Float Short': 0.0118, '52-Week Low': 0.3525, 'Average True Range': 0.57, 'EPS growth next year': -0.16, 'Sales growth past 5 years': 0.193, 'Company': 'Barrick Gold Corporation', 'Gap': 0.0033, 'Relative Volume': 1.09, 'Volatility (Month)': 0.0277, 'Market Cap': 18118.1, 'Volume': 17478164, 'Gross Margin': 0.444, 'Short Ratio': 0.67, 'Performance (Half Year)': -0.0479, 'Relative Strength Index (14)': 41.96, '20-Day Simple Moving Average': -0.0436, 'Performance (Month)': 0.018, 'Institutional Transactions': 0.0315, 'Performance (Year)': -0.474, 'LT Debt/Equity': 1.07, 'Average Volume': 17602.98, 'EPS growth this year': -1.147, '50-Day Simple Moving Average': -0.0239}\n",
      "{'_id': ObjectId('52853800bb1177ca391c1826'), 'Ticker': 'ACCL', 'Profit Margin': -0.014, 'Institutional Ownership': 0.911, 'EPS growth past 5 years': -0.421, 'Total Debt/Equity': 0, 'Current Ratio': 1.4, 'Return on Assets': -0.006, 'Sector': 'Technology', 'P/S': 3.13, 'Change from Open': 0.0011, 'Performance (YTD)': 0.0331, 'Performance (Week)': 0.0108, 'Quick Ratio': 1.4, 'Insider Transactions': -0.1768, 'P/B': 2.1, 'Performance (Quarter)': 0.0331, 'Forward P/E': 24.35, '200-Day Simple Moving Average': 0.0112, 'Shares Outstanding': 55.66, 'Earnings Date': datetime.datetime(2013, 10, 30, 20, 30), '52-Week High': -0.071, 'P/Cash': 4.14, 'Change': -0.0064, 'Analyst Recom': 2.3, 'Volatility (Week)': 0.0189, 'Country': 'USA', 'Return on Equity': -0.01, '50-Day Low': 0.0322, 'Price': 9.29, '50-Day High': -0.071, 'Return on Investment': -0.086, 'Shares Float': 55.4, 'EPS growth next 5 years': 0.2, 'Industry': 'Application Software', 'Beta': 0.84, 'Sales growth quarter over quarter': 0.01, 'Operating Margin': -0.091, 'EPS (ttm)': -0.05, 'Float Short': 0.0179, '52-Week Low': 0.1987, 'Average True Range': 0.21, 'EPS growth next year': 0.1294, 'Sales growth past 5 years': 0.153, 'Company': 'Accelrys Inc.', 'Gap': -0.0075, 'Relative Volume': 0.31, 'Volatility (Month)': 0.0236, 'Market Cap': 520.42, 'Volume': 33912, 'Gross Margin': 0.679, 'Short Ratio': 8.32, 'Performance (Half Year)': 0.0872, 'Relative Strength Index (14)': 45.52, 'Insider Ownership': 0.0092, '20-Day Simple Moving Average': -0.018, 'Performance (Month)': -0.0032, 'Institutional Transactions': 0.0133, 'Performance (Year)': 0.0747, 'LT Debt/Equity': 0, 'Average Volume': 118.95, 'EPS growth this year': -7.333, '50-Day Simple Moving Average': -0.0226}\n",
      "{'_id': ObjectId('52853800bb1177ca391c182b'), 'Ticker': 'ACFC', 'Profit Margin': -0.18, 'Institutional Ownership': 0.079, 'EPS growth past 5 years': -0.524, 'Total Debt/Equity': 0, 'Return on Assets': -0.007, 'Sector': 'Financial', 'P/S': 0.27, 'Change from Open': 0, 'Performance (YTD)': 0.6667, 'Performance (Week)': -0.1184, 'P/B': 0.27, 'EPS growth quarter over quarter': 0.483, 'Performance (Quarter)': -0.1321, '200-Day Simple Moving Average': -0.2118, 'Shares Outstanding': 2.5, 'Earnings Date': datetime.datetime(2013, 11, 4, 5, 0), '52-Week High': -0.4956, 'P/Cash': 0.1, 'Change': 0.0358, 'Analyst Recom': 3, 'Volatility (Week)': 0.0508, 'Country': 'USA', 'Return on Equity': -0.147, '50-Day Low': 0.081, 'Price': 3.47, '50-Day High': -0.2078, 'Return on Investment': 0.161, 'Shares Float': 1.72, 'Industry': 'Regional - Southeast Banks', 'Beta': 0.83, 'Sales growth quarter over quarter': -0.14, 'Operating Margin': -0.18, 'EPS (ttm)': -2.22, 'Float Short': 0.0085, '52-Week Low': 1.3767, 'Average True Range': 0.12, 'Sales growth past 5 years': -0.096, 'Company': 'Atlantic Coast Financial Corporation', 'Gap': 0.0358, 'Relative Volume': 0, 'Volatility (Month)': 0.0228, 'Market Cap': 8.39, 'Volume': 0, 'Short Ratio': 6.07, 'Performance (Half Year)': -0.3667, 'Relative Strength Index (14)': 40.71, 'Insider Ownership': 0.001, '20-Day Simple Moving Average': -0.0742, 'Performance (Month)': -0.1138, 'Institutional Transactions': -4.3825, 'Performance (Year)': 0.7539, 'LT Debt/Equity': 0, 'Average Volume': 2.41, 'EPS growth this year': 0.354, '50-Day Simple Moving Average': -0.0993}\n",
      "{'_id': ObjectId('52853800bb1177ca391c182f'), 'Ticker': 'ACH', 'Profit Margin': -0.051, 'Institutional Ownership': 0.02, 'EPS growth past 5 years': -0.227, 'Total Debt/Equity': 2.84, 'Current Ratio': 0.7, 'Return on Assets': -0.039, 'Sector': 'Basic Materials', 'P/S': 0.19, 'Change from Open': -0.0032, 'Performance (YTD)': -0.2645, 'Performance (Week)': -0.0437, 'Quick Ratio': 0.7, 'P/B': 0.67, 'EPS growth quarter over quarter': 0.711, 'Performance (Quarter)': 0.0057, '200-Day Simple Moving Average': -0.0544, 'Shares Outstanding': 540.98, 'Earnings Date': datetime.datetime(2011, 3, 2, 5, 0), '52-Week High': -0.3369, 'P/Cash': 2.77, 'Change': 0.0059, 'Analyst Recom': 5, 'Volatility (Week)': 0.015, 'Country': 'China', 'Return on Equity': -0.172, '50-Day Low': 0.0176, 'Price': 8.81, '50-Day High': -0.1117, 'Return on Investment': -0.029, 'Shares Float': 156.18, 'Industry': 'Aluminum', 'Beta': 1.9, 'Sales growth quarter over quarter': 0.065, 'Operating Margin': -0.021, 'EPS (ttm)': -1.76, 'Float Short': 0.02, '52-Week Low': 0.2154, 'Average True Range': 0.2, 'EPS growth next year': 0.487, 'Sales growth past 5 years': 0.119, 'Company': 'Aluminum Corporation Of China Limited', 'Gap': 0.0091, 'Relative Volume': 1.05, 'Volatility (Month)': 0.0183, 'Market Cap': 4738.98, 'Volume': 78010, 'Gross Margin': 0.005, 'Short Ratio': 38.23, 'Performance (Half Year)': -0.124, 'Relative Strength Index (14)': 38.92, '20-Day Simple Moving Average': -0.0477, 'Performance (Month)': -0.0405, 'Institutional Transactions': -0.0063, 'Performance (Year)': -0.1577, 'LT Debt/Equity': 1.19, 'Average Volume': 81.57, 'EPS growth this year': 0.839, '50-Day Simple Moving Average': -0.0421}\n",
      "{'_id': ObjectId('52853800bb1177ca391c1832'), 'Ticker': 'ACI', 'Profit Margin': -0.173, 'Institutional Ownership': 0.662, 'EPS growth past 5 years': -0.361, 'Total Debt/Equity': 1.97, 'Current Ratio': 3.5, 'Return on Assets': -0.058, 'Sector': 'Basic Materials', 'P/S': 0.28, 'Change from Open': -0.0372, 'Performance (YTD)': -0.4019, 'Performance (Week)': -0.0183, 'Quick Ratio': 3, 'Insider Transactions': 0.0178, 'P/B': 0.35, 'EPS growth quarter over quarter': -5.455, 'Performance (Quarter)': -0.0549, '200-Day Simple Moving Average': -0.1177, 'Shares Outstanding': 212.11, 'Earnings Date': datetime.datetime(2013, 10, 29, 12, 30), '52-Week High': -0.4702, 'P/Cash': 0.66, 'Change': -0.0372, 'Analyst Recom': 2.8, 'Volatility (Week)': 0.0516, 'Country': 'USA', 'Return on Equity': -0.207, '50-Day Low': 0.104, 'Price': 4.14, '50-Day High': -0.2114, 'Return on Investment': -0.047, 'Shares Float': 209.56, 'Dividend Yield': 0.0279, 'EPS growth next 5 years': 0.05, 'Industry': 'Industrial Metals & Minerals', 'Beta': 1.61, 'Sales growth quarter over quarter': -0.272, 'Operating Margin': -0.04, 'EPS (ttm)': -3.16, 'Float Short': 0.1772, '52-Week Low': 0.1997, 'Average True Range': 0.23, 'EPS growth next year': 0.143, 'Sales growth past 5 years': 0.115, 'Company': 'Arch Coal Inc.', 'Gap': 0, 'Relative Volume': 0.66, 'Volatility (Month)': 0.0546, 'Market Cap': 912.08, 'Volume': 5417562, 'Gross Margin': 0.141, 'Short Ratio': 4.12, 'Performance (Half Year)': -0.1224, 'Relative Strength Index (14)': 43.64, 'Insider Ownership': 0.0054, '20-Day Simple Moving Average': -0.0171, 'Performance (Month)': 0.0437, 'Institutional Transactions': 0.0024, 'Performance (Year)': -0.3741, 'LT Debt/Equity': 1.97, 'Average Volume': 9000.5, 'EPS growth this year': -5.378, '50-Day Simple Moving Average': -0.0482}\n"
     ]
    }
   ],
   "source": [
    "for data in db.stocks2.find( { \"Profit Margin\" : { '$lte': 0 } } ).limit(10):\n",
    "    print(data)"
   ]
  },
  {
   "cell_type": "markdown",
   "metadata": {},
   "source": [
    "#### 3)Liste as 10 ações mais rentáveis"
   ]
  },
  {
   "cell_type": "code",
   "execution_count": 13,
   "metadata": {},
   "outputs": [
    {
     "ename": "AttributeError",
     "evalue": "'Cursor' object has no attribute 'addSpecial'",
     "output_type": "error",
     "traceback": [
      "\u001b[0;31m---------------------------------------------------------------------------\u001b[0m",
      "\u001b[0;31mAttributeError\u001b[0m                            Traceback (most recent call last)",
      "\u001b[0;32m<ipython-input-13-c155625d2edf>\u001b[0m in \u001b[0;36m<module>\u001b[0;34m\u001b[0m\n\u001b[0;32m----> 1\u001b[0;31m \u001b[0mdb\u001b[0m\u001b[0;34m.\u001b[0m\u001b[0mstocks2\u001b[0m\u001b[0;34m.\u001b[0m\u001b[0mfind\u001b[0m\u001b[0;34m(\u001b[0m\u001b[0;34m)\u001b[0m\u001b[0;34m.\u001b[0m\u001b[0maddSpecial\u001b[0m\u001b[0;34m(\u001b[0m \u001b[0;34m\"$orderby\"\u001b[0m\u001b[0;34m,\u001b[0m \u001b[0;34m{\u001b[0m\u001b[0;34m\"Profit Margin\"\u001b[0m \u001b[0;34m:\u001b[0m \u001b[0;34m-\u001b[0m\u001b[0;36m1\u001b[0m \u001b[0;34m}\u001b[0m \u001b[0;34m)\u001b[0m\u001b[0;34m.\u001b[0m\u001b[0mlimit\u001b[0m\u001b[0;34m(\u001b[0m\u001b[0;36m10\u001b[0m\u001b[0;34m)\u001b[0m\u001b[0;34m\u001b[0m\u001b[0;34m\u001b[0m\u001b[0m\n\u001b[0m",
      "\u001b[0;31mAttributeError\u001b[0m: 'Cursor' object has no attribute 'addSpecial'"
     ]
    }
   ],
   "source": [
    "db.stocks2.find()._addSpecial( \"$orderby\", {\"Profit Margin\" : -1 } ).limit(10)"
   ]
  },
  {
   "cell_type": "markdown",
   "metadata": {},
   "source": [
    "#### 4) Qual foi o setor mais rentável?"
   ]
  },
  {
   "cell_type": "code",
   "execution_count": null,
   "metadata": {},
   "outputs": [],
   "source": []
  },
  {
   "cell_type": "markdown",
   "metadata": {},
   "source": [
    "#### 5) Ordene as ações pelo profit e usando um cursor, liste as ações."
   ]
  },
  {
   "cell_type": "code",
   "execution_count": 37,
   "metadata": {},
   "outputs": [
    {
     "ename": "AttributeError",
     "evalue": "'Cursor' object has no attribute '_addSpecial'",
     "output_type": "error",
     "traceback": [
      "\u001b[0;31m---------------------------------------------------------------------------\u001b[0m",
      "\u001b[0;31mAttributeError\u001b[0m                            Traceback (most recent call last)",
      "\u001b[0;32m<ipython-input-37-7be90fe8270c>\u001b[0m in \u001b[0;36m<module>\u001b[0;34m\u001b[0m\n\u001b[0;32m----> 1\u001b[0;31m \u001b[0mdb\u001b[0m\u001b[0;34m.\u001b[0m\u001b[0mstocks2\u001b[0m\u001b[0;34m.\u001b[0m\u001b[0mfind\u001b[0m\u001b[0;34m(\u001b[0m\u001b[0;34m)\u001b[0m\u001b[0;34m.\u001b[0m\u001b[0m_addSpecial\u001b[0m\u001b[0;34m(\u001b[0m \u001b[0;34m\"$orderby\"\u001b[0m\u001b[0;34m,\u001b[0m \u001b[0;34m{\u001b[0m\u001b[0;34m\"Profit Margin\"\u001b[0m \u001b[0;34m:\u001b[0m \u001b[0;36m1\u001b[0m \u001b[0;34m}\u001b[0m \u001b[0;34m)\u001b[0m\u001b[0;34m\u001b[0m\u001b[0;34m\u001b[0m\u001b[0m\n\u001b[0m",
      "\u001b[0;31mAttributeError\u001b[0m: 'Cursor' object has no attribute '_addSpecial'"
     ]
    }
   ],
   "source": [
    "db.stocks2.find()._addSpecial( \"$orderby\", {\"Profit Margin\" : 1 } )"
   ]
  },
  {
   "cell_type": "markdown",
   "metadata": {},
   "source": [
    "#### 6) Renomeie o campo “Profit Margin” para apenas “profit”."
   ]
  },
  {
   "cell_type": "code",
   "execution_count": 36,
   "metadata": {},
   "outputs": [
    {
     "data": {
      "text/plain": [
       "<pymongo.results.UpdateResult at 0x10bab6a00>"
      ]
     },
     "execution_count": 36,
     "metadata": {},
     "output_type": "execute_result"
    }
   ],
   "source": [
    "db.stocks2.update_many( {}, { '$rename': {\"Profit Margin\" : \"profit\" } } )"
   ]
  },
  {
   "cell_type": "markdown",
   "metadata": {},
   "source": [
    "#### 7) Agora liste apenas a empresa e seu respectivo resultado"
   ]
  },
  {
   "cell_type": "code",
   "execution_count": 35,
   "metadata": {},
   "outputs": [
    {
     "name": "stdout",
     "output_type": "stream",
     "text": [
      "<pymongo.command_cursor.CommandCursor object at 0x10bab5710>\n"
     ]
    }
   ],
   "source": [
    "cursor = db.stocks2.aggregate([{ '$project' : { 'Ticker' : 1, 'profit' : 1 } }] )\n",
    "print(cursor)"
   ]
  },
  {
   "cell_type": "markdown",
   "metadata": {},
   "source": [
    "#### 8) Analise as ações. É uma bola de cristal na sua mão... Quais as três ações você investiria?"
   ]
  },
  {
   "cell_type": "code",
   "execution_count": null,
   "metadata": {},
   "outputs": [],
   "source": []
  },
  {
   "cell_type": "markdown",
   "metadata": {},
   "source": [
    "#### 9) Liste as ações agrupadas por setor"
   ]
  },
  {
   "cell_type": "code",
   "execution_count": null,
   "metadata": {},
   "outputs": [],
   "source": [
    "db.stocks2.aggregate([{ '$group': { 'Sector': { '$avg': {'$profit' } } } }] )"
   ]
  }
 ],
 "metadata": {
  "kernelspec": {
   "display_name": "Python 3",
   "language": "python",
   "name": "python3"
  },
  "language_info": {
   "codemirror_mode": {
    "name": "ipython",
    "version": 3
   },
   "file_extension": ".py",
   "mimetype": "text/x-python",
   "name": "python",
   "nbconvert_exporter": "python",
   "pygments_lexer": "ipython3",
   "version": "3.7.4"
  }
 },
 "nbformat": 4,
 "nbformat_minor": 2
}
